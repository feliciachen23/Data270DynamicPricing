{
 "cells": [
  {
   "cell_type": "code",
   "execution_count": 1,
   "id": "9e81790f",
   "metadata": {},
   "outputs": [],
   "source": [
    "import numpy as np\n",
    "import pandas as pd\n",
    "from scipy import stats"
   ]
  },
  {
   "cell_type": "code",
   "execution_count": 4,
   "id": "44ace06a",
   "metadata": {},
   "outputs": [
    {
     "name": "stdout",
     "output_type": "stream",
     "text": [
      "<class 'pandas.core.frame.DataFrame'>\n",
      "RangeIndex: 115878 entries, 0 to 115877\n",
      "Data columns (total 33 columns):\n",
      " #   Column                         Non-Null Count   Dtype  \n",
      "---  ------                         --------------   -----  \n",
      " 0   order_id                       115878 non-null  object \n",
      " 1   order_item_id                  115878 non-null  int64  \n",
      " 2   product_id                     115878 non-null  object \n",
      " 3   seller_id                      115878 non-null  object \n",
      " 4   shipping_limit_date            115878 non-null  object \n",
      " 5   price                          115878 non-null  float64\n",
      " 6   freight_value                  115878 non-null  float64\n",
      " 7   payment_sequential             115878 non-null  int64  \n",
      " 8   payment_type                   115878 non-null  object \n",
      " 9   payment_installments           115878 non-null  int64  \n",
      " 10  payment_value                  115878 non-null  float64\n",
      " 11  customer_id                    115878 non-null  object \n",
      " 12  order_status                   115878 non-null  object \n",
      " 13  order_purchase_timestamp       115878 non-null  object \n",
      " 14  order_approved_at              115864 non-null  object \n",
      " 15  order_delivered_carrier_date   114673 non-null  object \n",
      " 16  order_delivered_customer_date  113383 non-null  object \n",
      " 17  order_estimated_delivery_date  115878 non-null  object \n",
      " 18  product_category_name_english  115878 non-null  object \n",
      " 19  product_name_lenght            115878 non-null  float64\n",
      " 20  product_description_lenght     115878 non-null  float64\n",
      " 21  product_photos_qty             115878 non-null  float64\n",
      " 22  product_weight_g               115877 non-null  float64\n",
      " 23  product_length_cm              115877 non-null  float64\n",
      " 24  product_height_cm              115877 non-null  float64\n",
      " 25  product_width_cm               115877 non-null  float64\n",
      " 26  customer_unique_id             115878 non-null  object \n",
      " 27  customer_zip_code_prefix       115878 non-null  int64  \n",
      " 28  customer_city                  115878 non-null  object \n",
      " 29  customer_state                 115878 non-null  object \n",
      " 30  seller_zip_code_prefix         115878 non-null  int64  \n",
      " 31  seller_city                    115878 non-null  object \n",
      " 32  seller_state                   115878 non-null  object \n",
      "dtypes: float64(10), int64(5), object(18)\n",
      "memory usage: 29.2+ MB\n"
     ]
    }
   ],
   "source": [
    "olist = pd.read_csv('olist.csv')\n",
    "olist.info()"
   ]
  },
  {
   "cell_type": "code",
   "execution_count": 5,
   "id": "f2de6498",
   "metadata": {},
   "outputs": [
    {
     "name": "stdout",
     "output_type": "stream",
     "text": [
      "<class 'pandas.core.frame.DataFrame'>\n",
      "RangeIndex: 115878 entries, 0 to 115877\n",
      "Data columns (total 33 columns):\n",
      " #   Column                         Non-Null Count   Dtype         \n",
      "---  ------                         --------------   -----         \n",
      " 0   order_id                       115878 non-null  object        \n",
      " 1   order_item_id                  115878 non-null  int64         \n",
      " 2   product_id                     115878 non-null  object        \n",
      " 3   seller_id                      115878 non-null  object        \n",
      " 4   shipping_limit_date            115878 non-null  object        \n",
      " 5   price                          115878 non-null  float64       \n",
      " 6   freight_value                  115878 non-null  float64       \n",
      " 7   payment_sequential             115878 non-null  int64         \n",
      " 8   payment_type                   115878 non-null  object        \n",
      " 9   payment_installments           115878 non-null  int64         \n",
      " 10  payment_value                  115878 non-null  float64       \n",
      " 11  customer_id                    115878 non-null  object        \n",
      " 12  order_status                   115878 non-null  object        \n",
      " 13  order_purchase_timestamp       115878 non-null  datetime64[ns]\n",
      " 14  order_approved_at              115864 non-null  datetime64[ns]\n",
      " 15  order_delivered_carrier_date   114673 non-null  datetime64[ns]\n",
      " 16  order_delivered_customer_date  113383 non-null  datetime64[ns]\n",
      " 17  order_estimated_delivery_date  115878 non-null  datetime64[ns]\n",
      " 18  product_category_name_english  115878 non-null  object        \n",
      " 19  product_name_lenght            115878 non-null  float64       \n",
      " 20  product_description_lenght     115878 non-null  float64       \n",
      " 21  product_photos_qty             115878 non-null  float64       \n",
      " 22  product_weight_g               115877 non-null  float64       \n",
      " 23  product_length_cm              115877 non-null  float64       \n",
      " 24  product_height_cm              115877 non-null  float64       \n",
      " 25  product_width_cm               115877 non-null  float64       \n",
      " 26  customer_unique_id             115878 non-null  object        \n",
      " 27  customer_zip_code_prefix       115878 non-null  int64         \n",
      " 28  customer_city                  115878 non-null  object        \n",
      " 29  customer_state                 115878 non-null  object        \n",
      " 30  seller_zip_code_prefix         115878 non-null  int64         \n",
      " 31  seller_city                    115878 non-null  object        \n",
      " 32  seller_state                   115878 non-null  object        \n",
      "dtypes: datetime64[ns](5), float64(10), int64(5), object(13)\n",
      "memory usage: 29.2+ MB\n"
     ]
    }
   ],
   "source": [
    "Date_type = [\"order_purchase_timestamp\", \"order_approved_at\", \"order_delivered_carrier_date\", \n",
    "             \"order_delivered_customer_date\", \"order_estimated_delivery_date\"]\n",
    "for d in Date_type:\n",
    "    olist[d] = pd.to_datetime(olist[d])\n",
    "olist.info()"
   ]
  },
  {
   "cell_type": "code",
   "execution_count": 6,
   "id": "61c4b420",
   "metadata": {},
   "outputs": [
    {
     "data": {
      "text/plain": [
       "order_id                            0\n",
       "order_item_id                       0\n",
       "product_id                          0\n",
       "seller_id                           0\n",
       "shipping_limit_date                 0\n",
       "price                               0\n",
       "freight_value                       0\n",
       "payment_sequential                  0\n",
       "payment_type                        0\n",
       "payment_installments                0\n",
       "payment_value                       0\n",
       "customer_id                         0\n",
       "order_status                        0\n",
       "order_purchase_timestamp            0\n",
       "order_approved_at                  14\n",
       "order_delivered_carrier_date     1205\n",
       "order_delivered_customer_date    2495\n",
       "order_estimated_delivery_date       0\n",
       "product_category_name_english       0\n",
       "product_name_lenght                 0\n",
       "product_description_lenght          0\n",
       "product_photos_qty                  0\n",
       "product_weight_g                    1\n",
       "product_length_cm                   1\n",
       "product_height_cm                   1\n",
       "product_width_cm                    1\n",
       "customer_unique_id                  0\n",
       "customer_zip_code_prefix            0\n",
       "customer_city                       0\n",
       "customer_state                      0\n",
       "seller_zip_code_prefix              0\n",
       "seller_city                         0\n",
       "seller_state                        0\n",
       "dtype: int64"
      ]
     },
     "execution_count": 6,
     "metadata": {},
     "output_type": "execute_result"
    }
   ],
   "source": [
    "olist.isnull().sum()"
   ]
  },
  {
   "cell_type": "code",
   "execution_count": 10,
   "id": "69175e3e",
   "metadata": {},
   "outputs": [],
   "source": [
    "#fill missing values with na for all missing dates\n",
    "index = (olist[olist[\"order_delivered_customer_date\"].isnull() == True].index.values)\n",
    "olist[\"order_approved_at\"].fillna(olist[\"order_purchase_timestamp\"], inplace=True)\n",
    "olist[\"order_delivered_carrier_date\"].fillna(olist[\"order_estimated_delivery_date\"], inplace=True)\n",
    "olist[\"order_delivered_customer_date\"].fillna(olist[\"order_estimated_delivery_date\"], inplace=True)\n",
    "\n",
    "#fill missing values of numerical features with median\n",
    "olist['product_weight_g'].fillna(olist['product_weight_g'].median(),inplace=True)\n",
    "olist['product_length_cm'].fillna(olist['product_length_cm'].median(),inplace=True)\n",
    "olist['product_height_cm'].fillna(olist['product_height_cm'].median(),inplace=True)\n",
    "olist['product_width_cm'].fillna(olist['product_width_cm'].median(),inplace=True)"
   ]
  },
  {
   "cell_type": "code",
   "execution_count": 11,
   "id": "c93ef958",
   "metadata": {},
   "outputs": [
    {
     "data": {
      "text/plain": [
       "order_id                         0\n",
       "order_item_id                    0\n",
       "product_id                       0\n",
       "seller_id                        0\n",
       "shipping_limit_date              0\n",
       "price                            0\n",
       "freight_value                    0\n",
       "payment_sequential               0\n",
       "payment_type                     0\n",
       "payment_installments             0\n",
       "payment_value                    0\n",
       "customer_id                      0\n",
       "order_status                     0\n",
       "order_purchase_timestamp         0\n",
       "order_approved_at                0\n",
       "order_delivered_carrier_date     0\n",
       "order_delivered_customer_date    0\n",
       "order_estimated_delivery_date    0\n",
       "product_category_name_english    0\n",
       "product_name_lenght              0\n",
       "product_description_lenght       0\n",
       "product_photos_qty               0\n",
       "product_weight_g                 0\n",
       "product_length_cm                0\n",
       "product_height_cm                0\n",
       "product_width_cm                 0\n",
       "customer_unique_id               0\n",
       "customer_zip_code_prefix         0\n",
       "customer_city                    0\n",
       "customer_state                   0\n",
       "seller_zip_code_prefix           0\n",
       "seller_city                      0\n",
       "seller_state                     0\n",
       "dtype: int64"
      ]
     },
     "execution_count": 11,
     "metadata": {},
     "output_type": "execute_result"
    }
   ],
   "source": [
    "olist.isnull().sum()"
   ]
  },
  {
   "cell_type": "code",
   "execution_count": null,
   "id": "a6b7da45",
   "metadata": {},
   "outputs": [],
   "source": []
  }
 ],
 "metadata": {
  "kernelspec": {
   "display_name": "Python 3 (ipykernel)",
   "language": "python",
   "name": "python3"
  },
  "language_info": {
   "codemirror_mode": {
    "name": "ipython",
    "version": 3
   },
   "file_extension": ".py",
   "mimetype": "text/x-python",
   "name": "python",
   "nbconvert_exporter": "python",
   "pygments_lexer": "ipython3",
   "version": "3.9.7"
  }
 },
 "nbformat": 4,
 "nbformat_minor": 5
}
