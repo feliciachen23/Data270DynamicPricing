{
 "cells": [
  {
   "cell_type": "markdown",
   "id": "dc5bde2c",
   "metadata": {},
   "source": [
    "#### Importing necessary libraries"
   ]
  },
  {
   "cell_type": "code",
   "execution_count": 4,
   "id": "65600672",
   "metadata": {},
   "outputs": [],
   "source": [
    "import numpy as np\n",
    "import pandas as pd\n",
    "from scipy import stats\n",
    "import json\n",
    "import seaborn as sns\n",
    "import matplotlib.pyplot as plt"
   ]
  },
  {
   "cell_type": "markdown",
   "id": "1638b197",
   "metadata": {},
   "source": [
    "#### Loading the olist data files"
   ]
  },
  {
   "cell_type": "code",
   "execution_count": 2,
   "id": "23876c30",
   "metadata": {},
   "outputs": [],
   "source": [
    "customers = pd.read_csv('olist_customers_dataset.csv')\n",
    "#geo = pd.read_csv('olist_geolocation_dataset.csv')\n",
    "item = pd.read_csv('olist_order_items_dataset.csv')\n",
    "payments = pd.read_csv('olist_order_payments_dataset.csv')\n",
    "#review = pd.read_csv('olist_order_reviews_dataset.csv')\n",
    "order = pd.read_csv('olist_orders_dataset.csv')\n",
    "seller = pd.read_csv('olist_sellers_dataset.csv')\n",
    "product = pd.read_csv('olist_products_dataset.csv')\n",
    "translation = pd.read_csv('product_category_name_translation.csv')"
   ]
  },
  {
   "cell_type": "code",
   "execution_count": 3,
   "id": "0f2c1322",
   "metadata": {},
   "outputs": [
    {
     "data": {
      "text/html": [
       "<div>\n",
       "<style scoped>\n",
       "    .dataframe tbody tr th:only-of-type {\n",
       "        vertical-align: middle;\n",
       "    }\n",
       "\n",
       "    .dataframe tbody tr th {\n",
       "        vertical-align: top;\n",
       "    }\n",
       "\n",
       "    .dataframe thead th {\n",
       "        text-align: right;\n",
       "    }\n",
       "</style>\n",
       "<table border=\"1\" class=\"dataframe\">\n",
       "  <thead>\n",
       "    <tr style=\"text-align: right;\">\n",
       "      <th></th>\n",
       "      <th>customer_id</th>\n",
       "      <th>customer_unique_id</th>\n",
       "      <th>customer_zip_code_prefix</th>\n",
       "      <th>customer_city</th>\n",
       "      <th>customer_state</th>\n",
       "    </tr>\n",
       "  </thead>\n",
       "  <tbody>\n",
       "    <tr>\n",
       "      <th>0</th>\n",
       "      <td>06b8999e2fba1a1fbc88172c00ba8bc7</td>\n",
       "      <td>861eff4711a542e4b93843c6dd7febb0</td>\n",
       "      <td>14409</td>\n",
       "      <td>franca</td>\n",
       "      <td>SP</td>\n",
       "    </tr>\n",
       "  </tbody>\n",
       "</table>\n",
       "</div>"
      ],
      "text/plain": [
       "                        customer_id                customer_unique_id  \\\n",
       "0  06b8999e2fba1a1fbc88172c00ba8bc7  861eff4711a542e4b93843c6dd7febb0   \n",
       "\n",
       "   customer_zip_code_prefix customer_city customer_state  \n",
       "0                     14409        franca             SP  "
      ]
     },
     "execution_count": 3,
     "metadata": {},
     "output_type": "execute_result"
    }
   ],
   "source": [
    "customers.head(1)"
   ]
  },
  {
   "cell_type": "code",
   "execution_count": 5,
   "id": "da0a183a",
   "metadata": {},
   "outputs": [
    {
     "data": {
      "text/html": [
       "<div>\n",
       "<style scoped>\n",
       "    .dataframe tbody tr th:only-of-type {\n",
       "        vertical-align: middle;\n",
       "    }\n",
       "\n",
       "    .dataframe tbody tr th {\n",
       "        vertical-align: top;\n",
       "    }\n",
       "\n",
       "    .dataframe thead th {\n",
       "        text-align: right;\n",
       "    }\n",
       "</style>\n",
       "<table border=\"1\" class=\"dataframe\">\n",
       "  <thead>\n",
       "    <tr style=\"text-align: right;\">\n",
       "      <th></th>\n",
       "      <th>order_id</th>\n",
       "      <th>order_item_id</th>\n",
       "      <th>product_id</th>\n",
       "      <th>seller_id</th>\n",
       "      <th>shipping_limit_date</th>\n",
       "      <th>price</th>\n",
       "      <th>freight_value</th>\n",
       "    </tr>\n",
       "  </thead>\n",
       "  <tbody>\n",
       "    <tr>\n",
       "      <th>0</th>\n",
       "      <td>00010242fe8c5a6d1ba2dd792cb16214</td>\n",
       "      <td>1</td>\n",
       "      <td>4244733e06e7ecb4970a6e2683c13e61</td>\n",
       "      <td>48436dade18ac8b2bce089ec2a041202</td>\n",
       "      <td>2017-09-19 09:45:35</td>\n",
       "      <td>58.9</td>\n",
       "      <td>13.29</td>\n",
       "    </tr>\n",
       "  </tbody>\n",
       "</table>\n",
       "</div>"
      ],
      "text/plain": [
       "                           order_id  order_item_id  \\\n",
       "0  00010242fe8c5a6d1ba2dd792cb16214              1   \n",
       "\n",
       "                         product_id                         seller_id  \\\n",
       "0  4244733e06e7ecb4970a6e2683c13e61  48436dade18ac8b2bce089ec2a041202   \n",
       "\n",
       "   shipping_limit_date  price  freight_value  \n",
       "0  2017-09-19 09:45:35   58.9          13.29  "
      ]
     },
     "execution_count": 5,
     "metadata": {},
     "output_type": "execute_result"
    }
   ],
   "source": [
    "item.head(1)"
   ]
  },
  {
   "cell_type": "code",
   "execution_count": 6,
   "id": "d8ff67eb",
   "metadata": {},
   "outputs": [
    {
     "data": {
      "text/html": [
       "<div>\n",
       "<style scoped>\n",
       "    .dataframe tbody tr th:only-of-type {\n",
       "        vertical-align: middle;\n",
       "    }\n",
       "\n",
       "    .dataframe tbody tr th {\n",
       "        vertical-align: top;\n",
       "    }\n",
       "\n",
       "    .dataframe thead th {\n",
       "        text-align: right;\n",
       "    }\n",
       "</style>\n",
       "<table border=\"1\" class=\"dataframe\">\n",
       "  <thead>\n",
       "    <tr style=\"text-align: right;\">\n",
       "      <th></th>\n",
       "      <th>order_id</th>\n",
       "      <th>payment_sequential</th>\n",
       "      <th>payment_type</th>\n",
       "      <th>payment_installments</th>\n",
       "      <th>payment_value</th>\n",
       "    </tr>\n",
       "  </thead>\n",
       "  <tbody>\n",
       "    <tr>\n",
       "      <th>0</th>\n",
       "      <td>b81ef226f3fe1789b1e8b2acac839d17</td>\n",
       "      <td>1</td>\n",
       "      <td>credit_card</td>\n",
       "      <td>8</td>\n",
       "      <td>99.33</td>\n",
       "    </tr>\n",
       "  </tbody>\n",
       "</table>\n",
       "</div>"
      ],
      "text/plain": [
       "                           order_id  payment_sequential payment_type  \\\n",
       "0  b81ef226f3fe1789b1e8b2acac839d17                   1  credit_card   \n",
       "\n",
       "   payment_installments  payment_value  \n",
       "0                     8          99.33  "
      ]
     },
     "execution_count": 6,
     "metadata": {},
     "output_type": "execute_result"
    }
   ],
   "source": [
    "payments.head(1)"
   ]
  },
  {
   "cell_type": "code",
   "execution_count": 7,
   "id": "84caccbf",
   "metadata": {},
   "outputs": [
    {
     "data": {
      "text/html": [
       "<div>\n",
       "<style scoped>\n",
       "    .dataframe tbody tr th:only-of-type {\n",
       "        vertical-align: middle;\n",
       "    }\n",
       "\n",
       "    .dataframe tbody tr th {\n",
       "        vertical-align: top;\n",
       "    }\n",
       "\n",
       "    .dataframe thead th {\n",
       "        text-align: right;\n",
       "    }\n",
       "</style>\n",
       "<table border=\"1\" class=\"dataframe\">\n",
       "  <thead>\n",
       "    <tr style=\"text-align: right;\">\n",
       "      <th></th>\n",
       "      <th>order_id</th>\n",
       "      <th>customer_id</th>\n",
       "      <th>order_status</th>\n",
       "      <th>order_purchase_timestamp</th>\n",
       "      <th>order_approved_at</th>\n",
       "      <th>order_delivered_carrier_date</th>\n",
       "      <th>order_delivered_customer_date</th>\n",
       "      <th>order_estimated_delivery_date</th>\n",
       "    </tr>\n",
       "  </thead>\n",
       "  <tbody>\n",
       "    <tr>\n",
       "      <th>0</th>\n",
       "      <td>e481f51cbdc54678b7cc49136f2d6af7</td>\n",
       "      <td>9ef432eb6251297304e76186b10a928d</td>\n",
       "      <td>delivered</td>\n",
       "      <td>2017-10-02 10:56:33</td>\n",
       "      <td>2017-10-02 11:07:15</td>\n",
       "      <td>2017-10-04 19:55:00</td>\n",
       "      <td>2017-10-10 21:25:13</td>\n",
       "      <td>2017-10-18 00:00:00</td>\n",
       "    </tr>\n",
       "  </tbody>\n",
       "</table>\n",
       "</div>"
      ],
      "text/plain": [
       "                           order_id                       customer_id  \\\n",
       "0  e481f51cbdc54678b7cc49136f2d6af7  9ef432eb6251297304e76186b10a928d   \n",
       "\n",
       "  order_status order_purchase_timestamp    order_approved_at  \\\n",
       "0    delivered      2017-10-02 10:56:33  2017-10-02 11:07:15   \n",
       "\n",
       "  order_delivered_carrier_date order_delivered_customer_date  \\\n",
       "0          2017-10-04 19:55:00           2017-10-10 21:25:13   \n",
       "\n",
       "  order_estimated_delivery_date  \n",
       "0           2017-10-18 00:00:00  "
      ]
     },
     "execution_count": 7,
     "metadata": {},
     "output_type": "execute_result"
    }
   ],
   "source": [
    "order.head(1)"
   ]
  },
  {
   "cell_type": "code",
   "execution_count": 8,
   "id": "affc85ec",
   "metadata": {},
   "outputs": [
    {
     "data": {
      "text/html": [
       "<div>\n",
       "<style scoped>\n",
       "    .dataframe tbody tr th:only-of-type {\n",
       "        vertical-align: middle;\n",
       "    }\n",
       "\n",
       "    .dataframe tbody tr th {\n",
       "        vertical-align: top;\n",
       "    }\n",
       "\n",
       "    .dataframe thead th {\n",
       "        text-align: right;\n",
       "    }\n",
       "</style>\n",
       "<table border=\"1\" class=\"dataframe\">\n",
       "  <thead>\n",
       "    <tr style=\"text-align: right;\">\n",
       "      <th></th>\n",
       "      <th>seller_id</th>\n",
       "      <th>seller_zip_code_prefix</th>\n",
       "      <th>seller_city</th>\n",
       "      <th>seller_state</th>\n",
       "    </tr>\n",
       "  </thead>\n",
       "  <tbody>\n",
       "    <tr>\n",
       "      <th>0</th>\n",
       "      <td>3442f8959a84dea7ee197c632cb2df15</td>\n",
       "      <td>13023</td>\n",
       "      <td>campinas</td>\n",
       "      <td>SP</td>\n",
       "    </tr>\n",
       "  </tbody>\n",
       "</table>\n",
       "</div>"
      ],
      "text/plain": [
       "                          seller_id  seller_zip_code_prefix seller_city  \\\n",
       "0  3442f8959a84dea7ee197c632cb2df15                   13023    campinas   \n",
       "\n",
       "  seller_state  \n",
       "0           SP  "
      ]
     },
     "execution_count": 8,
     "metadata": {},
     "output_type": "execute_result"
    }
   ],
   "source": [
    "seller.head(1)"
   ]
  },
  {
   "cell_type": "markdown",
   "id": "93feeed1",
   "metadata": {},
   "source": [
    "#### Merging files that will be used for project"
   ]
  },
  {
   "cell_type": "code",
   "execution_count": 5,
   "id": "da49458c",
   "metadata": {},
   "outputs": [],
   "source": [
    "product_eng = pd.merge(product, translation, on=\"product_category_name\").drop(\"product_category_name\", axis = 1)\n",
    "product_eng.insert(1, \"product_category_name_english\", product_eng.pop(\"product_category_name_english\"))\n",
    "\n",
    "olist = pd.merge(pd.merge(pd.merge(item, payments, on = \"order_id\"),order, on = \"order_id\"),product_eng, on = \"product_id\")\n",
    "olist = pd.merge(pd.merge(olist, customers, on = \"customer_id\"), seller, on = \"seller_id\")\n",
    "olist.to_csv('olist.csv', index = None)"
   ]
  },
  {
   "cell_type": "code",
   "execution_count": 6,
   "id": "7435b39e",
   "metadata": {},
   "outputs": [
    {
     "data": {
      "text/html": [
       "<div>\n",
       "<style scoped>\n",
       "    .dataframe tbody tr th:only-of-type {\n",
       "        vertical-align: middle;\n",
       "    }\n",
       "\n",
       "    .dataframe tbody tr th {\n",
       "        vertical-align: top;\n",
       "    }\n",
       "\n",
       "    .dataframe thead th {\n",
       "        text-align: right;\n",
       "    }\n",
       "</style>\n",
       "<table border=\"1\" class=\"dataframe\">\n",
       "  <thead>\n",
       "    <tr style=\"text-align: right;\">\n",
       "      <th></th>\n",
       "      <th>order_id</th>\n",
       "      <th>order_item_id</th>\n",
       "      <th>product_id</th>\n",
       "      <th>seller_id</th>\n",
       "      <th>shipping_limit_date</th>\n",
       "      <th>price</th>\n",
       "      <th>freight_value</th>\n",
       "      <th>payment_sequential</th>\n",
       "      <th>payment_type</th>\n",
       "      <th>payment_installments</th>\n",
       "      <th>...</th>\n",
       "      <th>product_length_cm</th>\n",
       "      <th>product_height_cm</th>\n",
       "      <th>product_width_cm</th>\n",
       "      <th>customer_unique_id</th>\n",
       "      <th>customer_zip_code_prefix</th>\n",
       "      <th>customer_city</th>\n",
       "      <th>customer_state</th>\n",
       "      <th>seller_zip_code_prefix</th>\n",
       "      <th>seller_city</th>\n",
       "      <th>seller_state</th>\n",
       "    </tr>\n",
       "  </thead>\n",
       "  <tbody>\n",
       "    <tr>\n",
       "      <th>0</th>\n",
       "      <td>00010242fe8c5a6d1ba2dd792cb16214</td>\n",
       "      <td>1</td>\n",
       "      <td>4244733e06e7ecb4970a6e2683c13e61</td>\n",
       "      <td>48436dade18ac8b2bce089ec2a041202</td>\n",
       "      <td>2017-09-19 09:45:35</td>\n",
       "      <td>58.9</td>\n",
       "      <td>13.29</td>\n",
       "      <td>1</td>\n",
       "      <td>credit_card</td>\n",
       "      <td>2</td>\n",
       "      <td>...</td>\n",
       "      <td>28.0</td>\n",
       "      <td>9.0</td>\n",
       "      <td>14.0</td>\n",
       "      <td>871766c5855e863f6eccc05f988b23cb</td>\n",
       "      <td>28013</td>\n",
       "      <td>campos dos goytacazes</td>\n",
       "      <td>RJ</td>\n",
       "      <td>27277</td>\n",
       "      <td>volta redonda</td>\n",
       "      <td>SP</td>\n",
       "    </tr>\n",
       "    <tr>\n",
       "      <th>1</th>\n",
       "      <td>130898c0987d1801452a8ed92a670612</td>\n",
       "      <td>1</td>\n",
       "      <td>4244733e06e7ecb4970a6e2683c13e61</td>\n",
       "      <td>48436dade18ac8b2bce089ec2a041202</td>\n",
       "      <td>2017-07-05 02:44:11</td>\n",
       "      <td>55.9</td>\n",
       "      <td>17.96</td>\n",
       "      <td>1</td>\n",
       "      <td>boleto</td>\n",
       "      <td>1</td>\n",
       "      <td>...</td>\n",
       "      <td>28.0</td>\n",
       "      <td>9.0</td>\n",
       "      <td>14.0</td>\n",
       "      <td>0fb8e3eab2d3e79d92bb3fffbb97f188</td>\n",
       "      <td>75800</td>\n",
       "      <td>jatai</td>\n",
       "      <td>GO</td>\n",
       "      <td>27277</td>\n",
       "      <td>volta redonda</td>\n",
       "      <td>SP</td>\n",
       "    </tr>\n",
       "    <tr>\n",
       "      <th>2</th>\n",
       "      <td>532ed5e14e24ae1f0d735b91524b98b9</td>\n",
       "      <td>1</td>\n",
       "      <td>4244733e06e7ecb4970a6e2683c13e61</td>\n",
       "      <td>48436dade18ac8b2bce089ec2a041202</td>\n",
       "      <td>2018-05-23 10:56:25</td>\n",
       "      <td>64.9</td>\n",
       "      <td>18.33</td>\n",
       "      <td>1</td>\n",
       "      <td>credit_card</td>\n",
       "      <td>2</td>\n",
       "      <td>...</td>\n",
       "      <td>28.0</td>\n",
       "      <td>9.0</td>\n",
       "      <td>14.0</td>\n",
       "      <td>3419052c8c6b45daf79c1e426f9e9bcb</td>\n",
       "      <td>30720</td>\n",
       "      <td>belo horizonte</td>\n",
       "      <td>MG</td>\n",
       "      <td>27277</td>\n",
       "      <td>volta redonda</td>\n",
       "      <td>SP</td>\n",
       "    </tr>\n",
       "    <tr>\n",
       "      <th>3</th>\n",
       "      <td>6f8c31653edb8c83e1a739408b5ff750</td>\n",
       "      <td>1</td>\n",
       "      <td>4244733e06e7ecb4970a6e2683c13e61</td>\n",
       "      <td>48436dade18ac8b2bce089ec2a041202</td>\n",
       "      <td>2017-08-07 18:55:08</td>\n",
       "      <td>58.9</td>\n",
       "      <td>16.17</td>\n",
       "      <td>1</td>\n",
       "      <td>credit_card</td>\n",
       "      <td>3</td>\n",
       "      <td>...</td>\n",
       "      <td>28.0</td>\n",
       "      <td>9.0</td>\n",
       "      <td>14.0</td>\n",
       "      <td>e7c828d22c0682c1565252deefbe334d</td>\n",
       "      <td>83070</td>\n",
       "      <td>sao jose dos pinhais</td>\n",
       "      <td>PR</td>\n",
       "      <td>27277</td>\n",
       "      <td>volta redonda</td>\n",
       "      <td>SP</td>\n",
       "    </tr>\n",
       "    <tr>\n",
       "      <th>4</th>\n",
       "      <td>7d19f4ef4d04461989632411b7e588b9</td>\n",
       "      <td>1</td>\n",
       "      <td>4244733e06e7ecb4970a6e2683c13e61</td>\n",
       "      <td>48436dade18ac8b2bce089ec2a041202</td>\n",
       "      <td>2017-08-16 22:05:11</td>\n",
       "      <td>58.9</td>\n",
       "      <td>13.29</td>\n",
       "      <td>1</td>\n",
       "      <td>credit_card</td>\n",
       "      <td>4</td>\n",
       "      <td>...</td>\n",
       "      <td>28.0</td>\n",
       "      <td>9.0</td>\n",
       "      <td>14.0</td>\n",
       "      <td>0bb98ba72dcc08e95f9d8cc434e9a2cc</td>\n",
       "      <td>36400</td>\n",
       "      <td>conselheiro lafaiete</td>\n",
       "      <td>MG</td>\n",
       "      <td>27277</td>\n",
       "      <td>volta redonda</td>\n",
       "      <td>SP</td>\n",
       "    </tr>\n",
       "  </tbody>\n",
       "</table>\n",
       "<p>5 rows × 33 columns</p>\n",
       "</div>"
      ],
      "text/plain": [
       "                           order_id  order_item_id  \\\n",
       "0  00010242fe8c5a6d1ba2dd792cb16214              1   \n",
       "1  130898c0987d1801452a8ed92a670612              1   \n",
       "2  532ed5e14e24ae1f0d735b91524b98b9              1   \n",
       "3  6f8c31653edb8c83e1a739408b5ff750              1   \n",
       "4  7d19f4ef4d04461989632411b7e588b9              1   \n",
       "\n",
       "                         product_id                         seller_id  \\\n",
       "0  4244733e06e7ecb4970a6e2683c13e61  48436dade18ac8b2bce089ec2a041202   \n",
       "1  4244733e06e7ecb4970a6e2683c13e61  48436dade18ac8b2bce089ec2a041202   \n",
       "2  4244733e06e7ecb4970a6e2683c13e61  48436dade18ac8b2bce089ec2a041202   \n",
       "3  4244733e06e7ecb4970a6e2683c13e61  48436dade18ac8b2bce089ec2a041202   \n",
       "4  4244733e06e7ecb4970a6e2683c13e61  48436dade18ac8b2bce089ec2a041202   \n",
       "\n",
       "   shipping_limit_date  price  freight_value  payment_sequential payment_type  \\\n",
       "0  2017-09-19 09:45:35   58.9          13.29                   1  credit_card   \n",
       "1  2017-07-05 02:44:11   55.9          17.96                   1       boleto   \n",
       "2  2018-05-23 10:56:25   64.9          18.33                   1  credit_card   \n",
       "3  2017-08-07 18:55:08   58.9          16.17                   1  credit_card   \n",
       "4  2017-08-16 22:05:11   58.9          13.29                   1  credit_card   \n",
       "\n",
       "   payment_installments  ...  product_length_cm product_height_cm  \\\n",
       "0                     2  ...               28.0               9.0   \n",
       "1                     1  ...               28.0               9.0   \n",
       "2                     2  ...               28.0               9.0   \n",
       "3                     3  ...               28.0               9.0   \n",
       "4                     4  ...               28.0               9.0   \n",
       "\n",
       "  product_width_cm                customer_unique_id customer_zip_code_prefix  \\\n",
       "0             14.0  871766c5855e863f6eccc05f988b23cb                    28013   \n",
       "1             14.0  0fb8e3eab2d3e79d92bb3fffbb97f188                    75800   \n",
       "2             14.0  3419052c8c6b45daf79c1e426f9e9bcb                    30720   \n",
       "3             14.0  e7c828d22c0682c1565252deefbe334d                    83070   \n",
       "4             14.0  0bb98ba72dcc08e95f9d8cc434e9a2cc                    36400   \n",
       "\n",
       "           customer_city customer_state seller_zip_code_prefix    seller_city  \\\n",
       "0  campos dos goytacazes             RJ                  27277  volta redonda   \n",
       "1                  jatai             GO                  27277  volta redonda   \n",
       "2         belo horizonte             MG                  27277  volta redonda   \n",
       "3   sao jose dos pinhais             PR                  27277  volta redonda   \n",
       "4   conselheiro lafaiete             MG                  27277  volta redonda   \n",
       "\n",
       "   seller_state  \n",
       "0            SP  \n",
       "1            SP  \n",
       "2            SP  \n",
       "3            SP  \n",
       "4            SP  \n",
       "\n",
       "[5 rows x 33 columns]"
      ]
     },
     "execution_count": 6,
     "metadata": {},
     "output_type": "execute_result"
    }
   ],
   "source": [
    "olist.head()"
   ]
  },
  {
   "cell_type": "code",
   "execution_count": 8,
   "id": "6f8b35d1",
   "metadata": {},
   "outputs": [
    {
     "data": {
      "text/plain": [
       "order_id                            0\n",
       "order_item_id                       0\n",
       "product_id                          0\n",
       "seller_id                           0\n",
       "shipping_limit_date                 0\n",
       "price                               0\n",
       "freight_value                       0\n",
       "payment_sequential                  0\n",
       "payment_type                        0\n",
       "payment_installments                0\n",
       "payment_value                       0\n",
       "customer_id                         0\n",
       "order_status                        0\n",
       "order_purchase_timestamp            0\n",
       "order_approved_at                  14\n",
       "order_delivered_carrier_date     1205\n",
       "order_delivered_customer_date    2495\n",
       "order_estimated_delivery_date       0\n",
       "product_category_name_english       0\n",
       "product_name_lenght                 0\n",
       "product_description_lenght          0\n",
       "product_photos_qty                  0\n",
       "product_weight_g                    1\n",
       "product_length_cm                   1\n",
       "product_height_cm                   1\n",
       "product_width_cm                    1\n",
       "customer_unique_id                  0\n",
       "customer_zip_code_prefix            0\n",
       "customer_city                       0\n",
       "customer_state                      0\n",
       "seller_zip_code_prefix              0\n",
       "seller_city                         0\n",
       "seller_state                        0\n",
       "dtype: int64"
      ]
     },
     "execution_count": 8,
     "metadata": {},
     "output_type": "execute_result"
    }
   ],
   "source": [
    "olist.isnull().sum()   #checking for null values"
   ]
  },
  {
   "cell_type": "markdown",
   "id": "ea5ca566",
   "metadata": {},
   "source": [
    "#### Replace or drop missing values"
   ]
  },
  {
   "cell_type": "code",
   "execution_count": 12,
   "id": "08f802fd",
   "metadata": {},
   "outputs": [],
   "source": [
    "olist['order_approved_at'].fillna(olist['order_purchase_timestamp'], inplace=True)\n",
    "olist['order_delivered_customer_date'].fillna(olist['order_estimated_delivery_date'], inplace=True)\n",
    "olist['order_delivered_carrier_date'].fillna(olist['order_delivered_customer_date'], inplace=True)"
   ]
  },
  {
   "cell_type": "code",
   "execution_count": 13,
   "id": "6d61e184",
   "metadata": {},
   "outputs": [],
   "source": [
    "olist.dropna(subset=['product_weight_g','product_length_cm','product_height_cm','product_width_cm'], inplace=True)"
   ]
  },
  {
   "cell_type": "code",
   "execution_count": 14,
   "id": "93a00f19",
   "metadata": {},
   "outputs": [
    {
     "data": {
      "text/plain": [
       "order_id                         0\n",
       "order_item_id                    0\n",
       "product_id                       0\n",
       "seller_id                        0\n",
       "shipping_limit_date              0\n",
       "price                            0\n",
       "freight_value                    0\n",
       "payment_sequential               0\n",
       "payment_type                     0\n",
       "payment_installments             0\n",
       "payment_value                    0\n",
       "customer_id                      0\n",
       "order_status                     0\n",
       "order_purchase_timestamp         0\n",
       "order_approved_at                0\n",
       "order_delivered_carrier_date     0\n",
       "order_delivered_customer_date    0\n",
       "order_estimated_delivery_date    0\n",
       "product_category_name_english    0\n",
       "product_name_lenght              0\n",
       "product_description_lenght       0\n",
       "product_photos_qty               0\n",
       "product_weight_g                 0\n",
       "product_length_cm                0\n",
       "product_height_cm                0\n",
       "product_width_cm                 0\n",
       "customer_unique_id               0\n",
       "customer_zip_code_prefix         0\n",
       "customer_city                    0\n",
       "customer_state                   0\n",
       "seller_zip_code_prefix           0\n",
       "seller_city                      0\n",
       "seller_state                     0\n",
       "dtype: int64"
      ]
     },
     "execution_count": 14,
     "metadata": {},
     "output_type": "execute_result"
    }
   ],
   "source": [
    "olist.isnull().sum()"
   ]
  },
  {
   "cell_type": "code",
   "execution_count": 9,
   "id": "b4d38712",
   "metadata": {},
   "outputs": [
    {
     "name": "stdout",
     "output_type": "stream",
     "text": [
      "<class 'pandas.core.frame.DataFrame'>\n",
      "Int64Index: 115878 entries, 0 to 115877\n",
      "Data columns (total 33 columns):\n",
      " #   Column                         Non-Null Count   Dtype  \n",
      "---  ------                         --------------   -----  \n",
      " 0   order_id                       115878 non-null  object \n",
      " 1   order_item_id                  115878 non-null  int64  \n",
      " 2   product_id                     115878 non-null  object \n",
      " 3   seller_id                      115878 non-null  object \n",
      " 4   shipping_limit_date            115878 non-null  object \n",
      " 5   price                          115878 non-null  float64\n",
      " 6   freight_value                  115878 non-null  float64\n",
      " 7   payment_sequential             115878 non-null  int64  \n",
      " 8   payment_type                   115878 non-null  object \n",
      " 9   payment_installments           115878 non-null  int64  \n",
      " 10  payment_value                  115878 non-null  float64\n",
      " 11  customer_id                    115878 non-null  object \n",
      " 12  order_status                   115878 non-null  object \n",
      " 13  order_purchase_timestamp       115878 non-null  object \n",
      " 14  order_approved_at              115864 non-null  object \n",
      " 15  order_delivered_carrier_date   114673 non-null  object \n",
      " 16  order_delivered_customer_date  113383 non-null  object \n",
      " 17  order_estimated_delivery_date  115878 non-null  object \n",
      " 18  product_category_name_english  115878 non-null  object \n",
      " 19  product_name_lenght            115878 non-null  float64\n",
      " 20  product_description_lenght     115878 non-null  float64\n",
      " 21  product_photos_qty             115878 non-null  float64\n",
      " 22  product_weight_g               115877 non-null  float64\n",
      " 23  product_length_cm              115877 non-null  float64\n",
      " 24  product_height_cm              115877 non-null  float64\n",
      " 25  product_width_cm               115877 non-null  float64\n",
      " 26  customer_unique_id             115878 non-null  object \n",
      " 27  customer_zip_code_prefix       115878 non-null  int64  \n",
      " 28  customer_city                  115878 non-null  object \n",
      " 29  customer_state                 115878 non-null  object \n",
      " 30  seller_zip_code_prefix         115878 non-null  int64  \n",
      " 31  seller_city                    115878 non-null  object \n",
      " 32  seller_state                   115878 non-null  object \n",
      "dtypes: float64(10), int64(5), object(18)\n",
      "memory usage: 30.1+ MB\n"
     ]
    }
   ],
   "source": [
    "olist.info()         #checking data types"
   ]
  },
  {
   "cell_type": "markdown",
   "id": "e62dd5cf",
   "metadata": {},
   "source": [
    "#### Timestamp values are in object form, changing to datetime format"
   ]
  },
  {
   "cell_type": "code",
   "execution_count": 23,
   "id": "cdbe6638",
   "metadata": {},
   "outputs": [],
   "source": [
    "olist['shipping_limit_date'] = pd.to_datetime(olist['shipping_limit_date'])\n",
    "olist['order_purchase_timestamp'] = pd.to_datetime(olist['order_purchase_timestamp'])\n",
    "olist['order_delivered_carrier_date'] = pd.to_datetime(olist['order_delivered_carrier_date'])\n",
    "olist['order_delivered_customer_date'] = pd.to_datetime(olist['order_delivered_customer_date'])\n",
    "olist['order_estimated_delivery_date'] = pd.to_datetime(olist['order_estimated_delivery_date'])"
   ]
  },
  {
   "cell_type": "code",
   "execution_count": 44,
   "id": "4e2e5089",
   "metadata": {},
   "outputs": [
    {
     "name": "stdout",
     "output_type": "stream",
     "text": [
      "<class 'pandas.core.frame.DataFrame'>\n",
      "Int64Index: 115877 entries, 0 to 115877\n",
      "Data columns (total 33 columns):\n",
      " #   Column                         Non-Null Count   Dtype         \n",
      "---  ------                         --------------   -----         \n",
      " 0   order_id                       115877 non-null  object        \n",
      " 1   order_item_id                  115877 non-null  int64         \n",
      " 2   product_id                     115877 non-null  object        \n",
      " 3   seller_id                      115877 non-null  object        \n",
      " 4   shipping_limit_date            115877 non-null  datetime64[ns]\n",
      " 5   price                          115877 non-null  float64       \n",
      " 6   freight_value                  115877 non-null  float64       \n",
      " 7   payment_sequential             115877 non-null  int64         \n",
      " 8   payment_type                   115877 non-null  object        \n",
      " 9   payment_installments           115877 non-null  int64         \n",
      " 10  payment_value                  115877 non-null  float64       \n",
      " 11  customer_id                    115877 non-null  object        \n",
      " 12  order_status                   115877 non-null  object        \n",
      " 13  order_purchase_timestamp       115877 non-null  datetime64[ns]\n",
      " 14  order_approved_at              115877 non-null  object        \n",
      " 15  order_delivered_carrier_date   115877 non-null  datetime64[ns]\n",
      " 16  order_delivered_customer_date  115877 non-null  datetime64[ns]\n",
      " 17  order_estimated_delivery_date  115877 non-null  datetime64[ns]\n",
      " 18  product_category_name_english  115877 non-null  object        \n",
      " 19  product_name_lenght            115877 non-null  float64       \n",
      " 20  product_description_lenght     115877 non-null  float64       \n",
      " 21  product_photos_qty             115877 non-null  float64       \n",
      " 22  product_weight_g               115877 non-null  float64       \n",
      " 23  product_length_cm              115877 non-null  float64       \n",
      " 24  product_height_cm              115877 non-null  float64       \n",
      " 25  product_width_cm               115877 non-null  float64       \n",
      " 26  customer_unique_id             115877 non-null  object        \n",
      " 27  customer_zip_code_prefix       115877 non-null  int64         \n",
      " 28  customer_city                  115877 non-null  object        \n",
      " 29  customer_state                 115877 non-null  object        \n",
      " 30  seller_zip_code_prefix         115877 non-null  int64         \n",
      " 31  seller_city                    115877 non-null  object        \n",
      " 32  seller_state                   115877 non-null  object        \n",
      "dtypes: datetime64[ns](5), float64(10), int64(5), object(13)\n",
      "memory usage: 30.1+ MB\n"
     ]
    }
   ],
   "source": [
    "olist.info()"
   ]
  },
  {
   "cell_type": "markdown",
   "id": "66553baf",
   "metadata": {},
   "source": [
    "#### Checking Duplicate Data"
   ]
  },
  {
   "cell_type": "code",
   "execution_count": 29,
   "id": "d412f005",
   "metadata": {},
   "outputs": [
    {
     "data": {
      "text/plain": [
       "0"
      ]
     },
     "execution_count": 29,
     "metadata": {},
     "output_type": "execute_result"
    }
   ],
   "source": [
    "olist.duplicated().sum()"
   ]
  },
  {
   "cell_type": "code",
   "execution_count": 46,
   "id": "84ce396a",
   "metadata": {},
   "outputs": [
    {
     "data": {
      "text/html": [
       "<div>\n",
       "<style scoped>\n",
       "    .dataframe tbody tr th:only-of-type {\n",
       "        vertical-align: middle;\n",
       "    }\n",
       "\n",
       "    .dataframe tbody tr th {\n",
       "        vertical-align: top;\n",
       "    }\n",
       "\n",
       "    .dataframe thead th {\n",
       "        text-align: right;\n",
       "    }\n",
       "</style>\n",
       "<table border=\"1\" class=\"dataframe\">\n",
       "  <thead>\n",
       "    <tr style=\"text-align: right;\">\n",
       "      <th></th>\n",
       "      <th>order_item_id</th>\n",
       "      <th>price</th>\n",
       "      <th>freight_value</th>\n",
       "      <th>payment_sequential</th>\n",
       "      <th>payment_installments</th>\n",
       "      <th>payment_value</th>\n",
       "      <th>product_name_lenght</th>\n",
       "      <th>product_description_lenght</th>\n",
       "      <th>product_photos_qty</th>\n",
       "      <th>product_weight_g</th>\n",
       "      <th>product_length_cm</th>\n",
       "      <th>product_height_cm</th>\n",
       "      <th>product_width_cm</th>\n",
       "      <th>customer_zip_code_prefix</th>\n",
       "      <th>seller_zip_code_prefix</th>\n",
       "    </tr>\n",
       "  </thead>\n",
       "  <tbody>\n",
       "    <tr>\n",
       "      <th>count</th>\n",
       "      <td>115877.000000</td>\n",
       "      <td>115877.000000</td>\n",
       "      <td>115877.000000</td>\n",
       "      <td>115877.000000</td>\n",
       "      <td>115877.000000</td>\n",
       "      <td>115877.000000</td>\n",
       "      <td>115877.000000</td>\n",
       "      <td>115877.000000</td>\n",
       "      <td>115877.000000</td>\n",
       "      <td>115877.000000</td>\n",
       "      <td>115877.000000</td>\n",
       "      <td>115877.000000</td>\n",
       "      <td>115877.000000</td>\n",
       "      <td>115877.000000</td>\n",
       "      <td>115877.000000</td>\n",
       "    </tr>\n",
       "    <tr>\n",
       "      <th>mean</th>\n",
       "      <td>1.196320</td>\n",
       "      <td>120.909070</td>\n",
       "      <td>20.075808</td>\n",
       "      <td>1.092831</td>\n",
       "      <td>2.945511</td>\n",
       "      <td>173.001216</td>\n",
       "      <td>48.766019</td>\n",
       "      <td>786.955755</td>\n",
       "      <td>2.207720</td>\n",
       "      <td>2117.594190</td>\n",
       "      <td>30.311554</td>\n",
       "      <td>16.656886</td>\n",
       "      <td>23.110445</td>\n",
       "      <td>35053.151203</td>\n",
       "      <td>24504.318044</td>\n",
       "    </tr>\n",
       "    <tr>\n",
       "      <th>std</th>\n",
       "      <td>0.699566</td>\n",
       "      <td>184.140924</td>\n",
       "      <td>15.870955</td>\n",
       "      <td>0.725316</td>\n",
       "      <td>2.779913</td>\n",
       "      <td>268.060699</td>\n",
       "      <td>10.035355</td>\n",
       "      <td>653.074676</td>\n",
       "      <td>1.719525</td>\n",
       "      <td>3785.744297</td>\n",
       "      <td>16.225837</td>\n",
       "      <td>13.480721</td>\n",
       "      <td>11.758209</td>\n",
       "      <td>29813.360198</td>\n",
       "      <td>27625.001509</td>\n",
       "    </tr>\n",
       "    <tr>\n",
       "      <th>min</th>\n",
       "      <td>1.000000</td>\n",
       "      <td>0.850000</td>\n",
       "      <td>0.000000</td>\n",
       "      <td>1.000000</td>\n",
       "      <td>0.000000</td>\n",
       "      <td>0.000000</td>\n",
       "      <td>5.000000</td>\n",
       "      <td>4.000000</td>\n",
       "      <td>1.000000</td>\n",
       "      <td>0.000000</td>\n",
       "      <td>7.000000</td>\n",
       "      <td>2.000000</td>\n",
       "      <td>6.000000</td>\n",
       "      <td>1003.000000</td>\n",
       "      <td>1001.000000</td>\n",
       "    </tr>\n",
       "    <tr>\n",
       "      <th>25%</th>\n",
       "      <td>1.000000</td>\n",
       "      <td>39.900000</td>\n",
       "      <td>13.080000</td>\n",
       "      <td>1.000000</td>\n",
       "      <td>1.000000</td>\n",
       "      <td>61.010000</td>\n",
       "      <td>42.000000</td>\n",
       "      <td>347.000000</td>\n",
       "      <td>1.000000</td>\n",
       "      <td>300.000000</td>\n",
       "      <td>18.000000</td>\n",
       "      <td>8.000000</td>\n",
       "      <td>15.000000</td>\n",
       "      <td>11320.000000</td>\n",
       "      <td>6429.000000</td>\n",
       "    </tr>\n",
       "    <tr>\n",
       "      <th>50%</th>\n",
       "      <td>1.000000</td>\n",
       "      <td>74.900000</td>\n",
       "      <td>16.320000</td>\n",
       "      <td>1.000000</td>\n",
       "      <td>2.000000</td>\n",
       "      <td>108.200000</td>\n",
       "      <td>52.000000</td>\n",
       "      <td>601.000000</td>\n",
       "      <td>1.000000</td>\n",
       "      <td>700.000000</td>\n",
       "      <td>25.000000</td>\n",
       "      <td>13.000000</td>\n",
       "      <td>20.000000</td>\n",
       "      <td>24315.000000</td>\n",
       "      <td>13660.000000</td>\n",
       "    </tr>\n",
       "    <tr>\n",
       "      <th>75%</th>\n",
       "      <td>1.000000</td>\n",
       "      <td>134.900000</td>\n",
       "      <td>21.220000</td>\n",
       "      <td>1.000000</td>\n",
       "      <td>4.000000</td>\n",
       "      <td>189.720000</td>\n",
       "      <td>57.000000</td>\n",
       "      <td>985.000000</td>\n",
       "      <td>3.000000</td>\n",
       "      <td>1800.000000</td>\n",
       "      <td>38.000000</td>\n",
       "      <td>20.000000</td>\n",
       "      <td>30.000000</td>\n",
       "      <td>58540.000000</td>\n",
       "      <td>28495.000000</td>\n",
       "    </tr>\n",
       "    <tr>\n",
       "      <th>max</th>\n",
       "      <td>21.000000</td>\n",
       "      <td>6735.000000</td>\n",
       "      <td>409.680000</td>\n",
       "      <td>29.000000</td>\n",
       "      <td>24.000000</td>\n",
       "      <td>13664.080000</td>\n",
       "      <td>76.000000</td>\n",
       "      <td>3992.000000</td>\n",
       "      <td>20.000000</td>\n",
       "      <td>40425.000000</td>\n",
       "      <td>105.000000</td>\n",
       "      <td>105.000000</td>\n",
       "      <td>118.000000</td>\n",
       "      <td>99980.000000</td>\n",
       "      <td>99730.000000</td>\n",
       "    </tr>\n",
       "  </tbody>\n",
       "</table>\n",
       "</div>"
      ],
      "text/plain": [
       "       order_item_id          price  freight_value  payment_sequential  \\\n",
       "count  115877.000000  115877.000000  115877.000000       115877.000000   \n",
       "mean        1.196320     120.909070      20.075808            1.092831   \n",
       "std         0.699566     184.140924      15.870955            0.725316   \n",
       "min         1.000000       0.850000       0.000000            1.000000   \n",
       "25%         1.000000      39.900000      13.080000            1.000000   \n",
       "50%         1.000000      74.900000      16.320000            1.000000   \n",
       "75%         1.000000     134.900000      21.220000            1.000000   \n",
       "max        21.000000    6735.000000     409.680000           29.000000   \n",
       "\n",
       "       payment_installments  payment_value  product_name_lenght  \\\n",
       "count         115877.000000  115877.000000        115877.000000   \n",
       "mean               2.945511     173.001216            48.766019   \n",
       "std                2.779913     268.060699            10.035355   \n",
       "min                0.000000       0.000000             5.000000   \n",
       "25%                1.000000      61.010000            42.000000   \n",
       "50%                2.000000     108.200000            52.000000   \n",
       "75%                4.000000     189.720000            57.000000   \n",
       "max               24.000000   13664.080000            76.000000   \n",
       "\n",
       "       product_description_lenght  product_photos_qty  product_weight_g  \\\n",
       "count               115877.000000       115877.000000     115877.000000   \n",
       "mean                   786.955755            2.207720       2117.594190   \n",
       "std                    653.074676            1.719525       3785.744297   \n",
       "min                      4.000000            1.000000          0.000000   \n",
       "25%                    347.000000            1.000000        300.000000   \n",
       "50%                    601.000000            1.000000        700.000000   \n",
       "75%                    985.000000            3.000000       1800.000000   \n",
       "max                   3992.000000           20.000000      40425.000000   \n",
       "\n",
       "       product_length_cm  product_height_cm  product_width_cm  \\\n",
       "count      115877.000000      115877.000000     115877.000000   \n",
       "mean           30.311554          16.656886         23.110445   \n",
       "std            16.225837          13.480721         11.758209   \n",
       "min             7.000000           2.000000          6.000000   \n",
       "25%            18.000000           8.000000         15.000000   \n",
       "50%            25.000000          13.000000         20.000000   \n",
       "75%            38.000000          20.000000         30.000000   \n",
       "max           105.000000         105.000000        118.000000   \n",
       "\n",
       "       customer_zip_code_prefix  seller_zip_code_prefix  \n",
       "count             115877.000000           115877.000000  \n",
       "mean               35053.151203            24504.318044  \n",
       "std                29813.360198            27625.001509  \n",
       "min                 1003.000000             1001.000000  \n",
       "25%                11320.000000             6429.000000  \n",
       "50%                24315.000000            13660.000000  \n",
       "75%                58540.000000            28495.000000  \n",
       "max                99980.000000            99730.000000  "
      ]
     },
     "execution_count": 46,
     "metadata": {},
     "output_type": "execute_result"
    }
   ],
   "source": [
    "olist.describe()"
   ]
  },
  {
   "cell_type": "markdown",
   "id": "45859e30",
   "metadata": {},
   "source": [
    "#### Checking correlation of features"
   ]
  },
  {
   "cell_type": "code",
   "execution_count": 41,
   "id": "9fc9b619",
   "metadata": {},
   "outputs": [
    {
     "data": {
      "image/png": "[encoded data removed]",
      "text/plain": [
       "<Figure size 1440x720 with 2 Axes>"
      ]
     },
     "metadata": {
      "needs_background": "light"
     },
     "output_type": "display_data"
    }
   ],
   "source": [
    "correlation_matrix = olist.corr()\n",
    "plt.figure(figsize=(20,10))\n",
    "sns.heatmap(correlation_matrix, annot = True)\n",
    "plt.title('Correlation Matrix')\n",
    "plt.show()"
   ]
  },
  {
   "cell_type": "markdown",
   "id": "74f1f130",
   "metadata": {},
   "source": [
    "#### Looking at the correlation matrix, there appears to be strong correlation between (payment value and price), (product weight and freight value),(product width and product weight, product length). This only provides insights for numerical values on the data"
   ]
  },
  {
   "cell_type": "markdown",
   "id": "5d42f55b",
   "metadata": {},
   "source": [
    "### PCA"
   ]
  },
  {
   "cell_type": "markdown",
   "id": "42d6eee2",
   "metadata": {},
   "source": [
    "#### Changing categorical value to numerical values"
   ]
  },
  {
   "cell_type": "code",
   "execution_count": 81,
   "id": "5937b8d9",
   "metadata": {},
   "outputs": [],
   "source": [
    "olist_cat = ['order_status', 'customer_state', 'payment_type'] #categorical data"
   ]
  },
  {
   "cell_type": "code",
   "execution_count": 82,
   "id": "841db6df",
   "metadata": {},
   "outputs": [],
   "source": [
    "from sklearn.preprocessing import StandardScaler, OneHotEncoder\n",
    "from sklearn.pipeline import Pipeline\n",
    "from sklearn.compose import ColumnTransformer"
   ]
  },
  {
   "cell_type": "code",
   "execution_count": 83,
   "id": "e1870b50",
   "metadata": {},
   "outputs": [],
   "source": [
    "olist_num = ['order_item_id', 'price', 'freight_value', 'payment_sequential', 'payment_installments',\n",
    "             'payment_value']"
   ]
  },
  {
   "cell_type": "code",
   "execution_count": 86,
   "id": "f87546a5",
   "metadata": {},
   "outputs": [
    {
     "data": {
      "text/plain": [
       "(115877, 44)"
      ]
     },
     "execution_count": 86,
     "metadata": {},
     "output_type": "execute_result"
    }
   ],
   "source": [
    "pipeline = ColumnTransformer([('num', StandardScaler(), olist_num),('cat', OneHotEncoder(), olist_cat)])\n",
    "olist_change = pipeline.fit_transform(olist)\n",
    "olist_change.shape"
   ]
  },
  {
   "cell_type": "code",
   "execution_count": 87,
   "id": "3103c827",
   "metadata": {},
   "outputs": [],
   "source": [
    "olist_change = olist_change.toarray()  #changing to numpy array to perform pca because input cannot be sparse for pca"
   ]
  },
  {
   "cell_type": "code",
   "execution_count": 88,
   "id": "13979b5a",
   "metadata": {},
   "outputs": [
    {
     "data": {
      "text/plain": [
       "(115877, 11)"
      ]
     },
     "execution_count": 88,
     "metadata": {},
     "output_type": "execute_result"
    }
   ],
   "source": [
    "from sklearn.decomposition import PCA\n",
    "\n",
    "# Preserving 95% of the variance\n",
    "pca = PCA(n_components=0.95)\n",
    "olist_reduced = pca.fit_transform(olist_change)\n",
    "olist_reduced.shape"
   ]
  },
  {
   "cell_type": "code",
   "execution_count": null,
   "id": "c90c0054",
   "metadata": {},
   "outputs": [],
   "source": []
  }
 ],
 "metadata": {
  "kernelspec": {
   "display_name": "Python 3",
   "language": "python",
   "name": "python3"
  },
  "language_info": {
   "codemirror_mode": {
    "name": "ipython",
    "version": 3
   },
   "file_extension": ".py",
   "mimetype": "text/x-python",
   "name": "python",
   "nbconvert_exporter": "python",
   "pygments_lexer": "ipython3",
   "version": "3.8.8"
  }
 },
 "nbformat": 4,
 "nbformat_minor": 5
}
